{
  "cells": [
    {
      "cell_type": "markdown",
      "source": [
        "---\n",
        "\n",
        "# `Instruções para o teste`"
      ],
      "metadata": {
        "id": "INZt9MMY4Iv7"
      },
      "id": "INZt9MMY4Iv7"
    },
    {
      "cell_type": "markdown",
      "source": [
        "## ⚠️ Importante\n",
        "\n",
        "Antes de iniciar, não esqueça de renomear esse documento substituindo o texto **SEU_NOME** no título com o nome de quem for resolver.\n",
        "\n",
        "Deixe as respostas bem sinalizadas e comentadas e mencionando a qual questão se refere.\n",
        "\n",
        "Fique à vontade para utilizar quantas células forem necessárias.\n",
        "\n",
        "<br><br>\n",
        "\n",
        "## 📖 Recursos Permitidos\n",
        "✅ Documentação, sites, fóruns  \n",
        "❌ Inteligências Artificiais (ChatGPT, Claude, etc.)\n",
        "\n",
        "<br><br>\n",
        "\n",
        "## 📤 Instruções para Entrega\n",
        "\n",
        "**Ao finalizar o teste** volte a este passo e execute a célula abaixo.\n",
        "\n",
        "**Envie o arquivo gerado e o arquivo do seu notebook para o e-mail:** `mateus.camacho@tdwbi.com.br`\n",
        "\n",
        "- Arquivo gerado: `historico_exec.txt` <br>\n",
        "- Seu notebook: `teste_spark_SEU_NOME.ipynb`\n"
      ],
      "metadata": {
        "id": "T3Ekv2xFmbfu"
      },
      "id": "T3Ekv2xFmbfu"
    },
    {
      "cell_type": "code",
      "source": [
        "### EXECUTE ESTA CÉLULA APENAS AO FINAL DO TESTE ###\n",
        "\n",
        "%history -t /content/historico_exec.txt\n",
        "from google.colab import files\n",
        "files.download('/content/historico_exec.txt')"
      ],
      "metadata": {
        "id": "iBXrZHR2lFBN"
      },
      "id": "iBXrZHR2lFBN",
      "execution_count": null,
      "outputs": []
    },
    {
      "cell_type": "markdown",
      "source": [
        "---\n",
        "\n",
        "# `Questões e Contexto`"
      ],
      "metadata": {
        "id": "XuR4t6Hi4_xi"
      },
      "id": "XuR4t6Hi4_xi"
    },
    {
      "cell_type": "markdown",
      "id": "7bb3e3f3",
      "metadata": {
        "id": "7bb3e3f3"
      },
      "source": [
        "## 📁 Contexto\n",
        "\n",
        "No diretório raiz desse documento, existem os três arquivos que serão necessários para a conclusão dessa atividade. Em caso de dúvidas, a pasta de se encontra no desktop dessa máquina na pasta 'pyspark_test'.\n",
        "\n",
        "Os dados são fictícios e compreendem uma simulação de um cenário de uma loja de departamentos, para isso temos os arquivos com as seguintes informações:\n",
        "- **users.csv** → Dados dos clientes/usuários da loja\n",
        "- **sales.csv** → Dados das vendas\n",
        "- **products.json** → Dados de cadastro dos produtos\n",
        "\n",
        "<br><br>\n",
        "\n",
        "## 📝 Questões\n",
        "\n",
        "A atividade consiste nas questões a seguir:\n",
        "\n",
        "**1.** Declare um novo dataframe que mostre o nome do produto e o valor final da compra.\n",
        "\n",
        "**2.** Declare um novo dataframe com o valor total gasto por cliente.\n",
        "\n",
        "**3.** Declare um novo dataframe com os cinco melhores clientes contendo o nome, e-mail e o valor gasto em todo o período.\n",
        "\n",
        "**4.** Declare um novo dataframe com os cinco produtos mais vendidos nos últimos seis meses (considerando período de dados disponível nos arquivos) contendo o nome do produto e a quantidade de produtos vendidos nesse período.\n",
        "\n",
        "**5.** Calcular a média de faturamento por cliente e o desvio padrão.\n",
        "\n",
        "**6.** Classificar os clientes em três categorias: silver, gold, platinum\n",
        "- **platinum:** clientes que gastaram mais que a média de faturamento por cliente;\n",
        "- **gold:** clientes que gastaram do menor desvio padrão até a média de faturamento por cliente;\n",
        "- **silver:** clientes que gastaram no máximo a média menos o desvio padrão do faturamento por cliente;\n",
        "\n",
        "**7.** Salvar um arquivo parquet com os três produtos mais consumidos de cada categoria do cliente."
      ]
    },
    {
      "cell_type": "markdown",
      "source": [
        "---\n",
        "\n",
        "# `Configuração do ambiente`"
      ],
      "metadata": {
        "id": "J4CEqXVU41Ul"
      },
      "id": "J4CEqXVU41Ul"
    },
    {
      "cell_type": "markdown",
      "source": [
        "**Execute as células abaixo antes de iniciar o teste.**\n",
        "\n",
        "Os arquivos serão criados automaticamente e estarão disponíveis no ícone de pasta do menu lateral (conforme imagem abaixo) ou na pasta **content**.\n",
        "\n",
        "![image.png](data:image/png;base64,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)\n"
      ],
      "metadata": {
        "id": "vjwZB1Gk4Ccv"
      },
      "id": "vjwZB1Gk4Ccv"
    },
    {
      "cell_type": "code",
      "source": [
        "### IMPORTANDO ARQUIVOS QUE SERÃO USADOS NO TESTE ###\n",
        "\n",
        "!wget https://raw.githubusercontent.com/KaelDucatti/pyspark_test_data/main/products.json -O products.json\n",
        "!wget https://raw.githubusercontent.com/KaelDucatti/pyspark_test_data/main/sales.csv -O sales.csv\n",
        "!wget https://raw.githubusercontent.com/KaelDucatti/pyspark_test_data/main/users.csv -O users.csv\n",
        "\n",
        "path_products = \"/content/products.json\"\n",
        "path_sales = \"/content/sales.csv\"\n",
        "path_users = \"/content/users.csv\""
      ],
      "metadata": {
        "id": "kOTOhjxs34WB",
        "collapsed": true,
        "outputId": "24cdc82a-16fc-40e1-ccc7-fee1a0a7d8d0",
        "colab": {
          "base_uri": "https://localhost:8080/"
        }
      },
      "id": "kOTOhjxs34WB",
      "execution_count": 1,
      "outputs": [
        {
          "output_type": "stream",
          "name": "stdout",
          "text": [
            "--2025-09-02 18:55:01--  https://raw.githubusercontent.com/KaelDucatti/pyspark_test_data/main/products.json\n",
            "Resolving raw.githubusercontent.com (raw.githubusercontent.com)... 185.199.110.133, 185.199.111.133, 185.199.109.133, ...\n",
            "Connecting to raw.githubusercontent.com (raw.githubusercontent.com)|185.199.110.133|:443... connected.\n",
            "HTTP request sent, awaiting response... 200 OK\n",
            "Length: 3186 (3.1K) [text/plain]\n",
            "Saving to: ‘products.json’\n",
            "\n",
            "products.json       100%[===================>]   3.11K  --.-KB/s    in 0s      \n",
            "\n",
            "2025-09-02 18:55:01 (33.8 MB/s) - ‘products.json’ saved [3186/3186]\n",
            "\n",
            "--2025-09-02 18:55:01--  https://raw.githubusercontent.com/KaelDucatti/pyspark_test_data/main/sales.csv\n",
            "Resolving raw.githubusercontent.com (raw.githubusercontent.com)... 185.199.108.133, 185.199.109.133, 185.199.110.133, ...\n",
            "Connecting to raw.githubusercontent.com (raw.githubusercontent.com)|185.199.108.133|:443... connected.\n",
            "HTTP request sent, awaiting response... 200 OK\n",
            "Length: 24411 (24K) [text/plain]\n",
            "Saving to: ‘sales.csv’\n",
            "\n",
            "sales.csv           100%[===================>]  23.84K  --.-KB/s    in 0.001s  \n",
            "\n",
            "2025-09-02 18:55:01 (21.1 MB/s) - ‘sales.csv’ saved [24411/24411]\n",
            "\n",
            "--2025-09-02 18:55:01--  https://raw.githubusercontent.com/KaelDucatti/pyspark_test_data/main/users.csv\n",
            "Resolving raw.githubusercontent.com (raw.githubusercontent.com)... 185.199.109.133, 185.199.108.133, 185.199.111.133, ...\n",
            "Connecting to raw.githubusercontent.com (raw.githubusercontent.com)|185.199.109.133|:443... connected.\n",
            "HTTP request sent, awaiting response... 200 OK\n",
            "Length: 20278 (20K) [text/plain]\n",
            "Saving to: ‘users.csv’\n",
            "\n",
            "users.csv           100%[===================>]  19.80K  --.-KB/s    in 0.001s  \n",
            "\n",
            "2025-09-02 18:55:01 (35.6 MB/s) - ‘users.csv’ saved [20278/20278]\n",
            "\n"
          ]
        }
      ]
    },
    {
      "cell_type": "code",
      "execution_count": 130,
      "id": "205a2a24",
      "metadata": {
        "id": "205a2a24"
      },
      "outputs": [],
      "source": [
        "### IMPORTANDO BIBLIOTECAS NECESSÁRIAS ###\n",
        "\n",
        "from pyspark.sql import SparkSession\n",
        "from pyspark.sql import *\n",
        "from pyspark.sql.functions import *\n",
        "from pyspark.sql.types import *\n",
        "from pyspark.sql.window import Window"
      ]
    },
    {
      "cell_type": "code",
      "execution_count": 3,
      "id": "b7e5a13f",
      "metadata": {
        "id": "b7e5a13f"
      },
      "outputs": [],
      "source": [
        "### INSTANCIANDO SPARK ###\n",
        "\n",
        "spark = SparkSession.builder.appName('test-spark').getOrCreate()"
      ]
    },
    {
      "cell_type": "markdown",
      "source": [
        "---\n",
        "\n",
        "# Seu teste começa aqui 🍀 Boa sorte!"
      ],
      "metadata": {
        "id": "Me9n8tjClTHW"
      },
      "id": "Me9n8tjClTHW"
    },
    {
      "cell_type": "code",
      "source": [
        "df_products = spark.read.json('./products.json')\n",
        "df_products = df_products.withColumn('price', regexp_replace(col('price'), '\\\\$', '').cast(FloatType()))\n",
        "df_products.printSchema()\n",
        "df_products.show(5)"
      ],
      "metadata": {
        "id": "WlJR3FALnBnQ",
        "outputId": "98f1a4f9-99ab-4b80-a181-142b285cc8ad",
        "colab": {
          "base_uri": "https://localhost:8080/"
        }
      },
      "id": "WlJR3FALnBnQ",
      "execution_count": 39,
      "outputs": [
        {
          "output_type": "stream",
          "name": "stdout",
          "text": [
            "root\n",
            " |-- price: float (nullable = true)\n",
            " |-- product: string (nullable = true)\n",
            " |-- product_id: long (nullable = true)\n",
            "\n",
            "+------+----------------+----------+\n",
            "| price|         product|product_id|\n",
            "+------+----------------+----------+\n",
            "|  86.5|     Camisa Polo|         1|\n",
            "|112.11|     Calça Jeans|         2|\n",
            "|100.19|Vestido de Verão|         3|\n",
            "| 82.38| Tênis Esportivo|         4|\n",
            "| 101.5| Camiseta Básica|         5|\n",
            "+------+----------------+----------+\n",
            "only showing top 5 rows\n",
            "\n"
          ]
        }
      ]
    },
    {
      "cell_type": "code",
      "source": [
        "df_sales = spark.read.csv('./sales.csv', header=True)\n",
        "df_sales = df_sales.withColumn('qtde', col('qtde').cast(IntegerType()))\n",
        "df_sales = df_sales.withColumn('date', to_date(col('date'), 'dd/MM/yyyy'))\n",
        "df_sales.printSchema()\n",
        "df_sales.show(5)"
      ],
      "metadata": {
        "id": "L7lth7NhlpFK",
        "outputId": "351e2334-43c6-4355-9b85-4503758c8701",
        "colab": {
          "base_uri": "https://localhost:8080/"
        }
      },
      "id": "L7lth7NhlpFK",
      "execution_count": 32,
      "outputs": [
        {
          "output_type": "stream",
          "name": "stdout",
          "text": [
            "root\n",
            " |-- sale_id: string (nullable = true)\n",
            " |-- date: date (nullable = true)\n",
            " |-- product_id: string (nullable = true)\n",
            " |-- client_id: string (nullable = true)\n",
            " |-- qtde: integer (nullable = true)\n",
            "\n",
            "+-------+----------+----------+---------+----+\n",
            "|sale_id|      date|product_id|client_id|qtde|\n",
            "+-------+----------+----------+---------+----+\n",
            "|      1|2022-06-13|        30|      223|   2|\n",
            "|      2|2022-11-16|        23|      175|   2|\n",
            "|      3|2022-08-18|        29|      184|   2|\n",
            "|      4|2022-03-13|        31|      194|   1|\n",
            "|      5|2022-12-14|        13|      221|   2|\n",
            "+-------+----------+----------+---------+----+\n",
            "only showing top 5 rows\n",
            "\n"
          ]
        }
      ]
    },
    {
      "cell_type": "code",
      "source": [
        "df_users = spark.read.csv('./users.csv', header=True)\n",
        "df_users.show(5)"
      ],
      "metadata": {
        "id": "dK6E9-hux5xE",
        "outputId": "3522c147-2a41-41ac-d0dd-2ca64bb3bec5",
        "colab": {
          "base_uri": "https://localhost:8080/"
        }
      },
      "id": "dK6E9-hux5xE",
      "execution_count": 7,
      "outputs": [
        {
          "output_type": "stream",
          "name": "stdout",
          "text": [
            "+---------+-------------------+--------------------+------+--------------+----------------+\n",
            "|client_id|               name|               email|gender|         login|        password|\n",
            "+---------+-------------------+--------------------+------+--------------+----------------+\n",
            "|        1|   Mitch Kilpatrick|mkilpatrick0@cdc.gov|     M|  mkilpatrick0|      uE9+F7h5*P|\n",
            "|        2|          Kit Kyncl|kkyncl1@miitbeian...|     M|       kkyncl1|        nZ1>gR%L|\n",
            "|        3|    Marylou Presman|mpresman2@twitter...|     F|     mpresman2|        aP2#@KQI|\n",
            "|        4|   Gilberta Andrieu|gandrieu3@4shared...|     M|     gandrieu3|oN2/1oW(IPSNWwoW|\n",
            "|        5|Tobiah Boughtflower|tboughtflower4@pa...|     M|tboughtflower4| hD7{HV(oHo'C&P.|\n",
            "+---------+-------------------+--------------------+------+--------------+----------------+\n",
            "only showing top 5 rows\n",
            "\n"
          ]
        }
      ]
    },
    {
      "cell_type": "code",
      "source": [
        "df_sales_total = df_sales.join(df_products, on='product_id', how='inner')\n",
        "df_sales_total = df_sales_total.join(df_users, on='client_id', how='inner')\n",
        "df_sales_total = df_sales_total.withColumn('Total Value', df_sales_total.price * df_sales_total.qtde)\n",
        "df_sales_total.show()"
      ],
      "metadata": {
        "id": "p9tLirh1yJql",
        "outputId": "37de5498-10e6-4cf1-e7fc-e8ef0907b294",
        "colab": {
          "base_uri": "https://localhost:8080/"
        }
      },
      "id": "p9tLirh1yJql",
      "execution_count": 126,
      "outputs": [
        {
          "output_type": "stream",
          "name": "stdout",
          "text": [
            "+---------+----------+-------+----------+----+------+------------------+--------------------+--------------------+------+---------------+----------------+-----------+\n",
            "|client_id|product_id|sale_id|      date|qtde| price|           product|                name|               email|gender|          login|        password|Total Value|\n",
            "+---------+----------+-------+----------+----+------+------------------+--------------------+--------------------+------+---------------+----------------+-----------+\n",
            "|      223|        30|      1|2022-06-13|   2|107.25|     Blusa Cropped|     Kiele Reichardt|kreichardt66@furl...|     F|   kreichardt66|    gW5+<jBzUad\\|      214.5|\n",
            "|      175|        23|      2|2022-11-16|   2|109.19|Camiseta Estampada|        Liva Boswood|lboswood4u@illino...|     M|     lboswood4u|   cP3/fQcBo1cvX|     218.38|\n",
            "|      184|        29|      3|2022-08-18|   2|122.27|     Óculos de Sol|Elfie Mac Giolla ...|    emac53@ifeng.com|     F|         emac53|        dL2#oouC|     244.54|\n",
            "|      194|        31|      4|2022-03-13|   1|105.96|        Bolsa Tote|     Sander Langshaw|slangshaw5d@oracl...|     F|    slangshaw5d|        eZ6/ZNK7|     105.96|\n",
            "|      221|        13|      5|2022-12-14|   2| 80.76|     Camisa Social|  Patric Cullingford|pcullingford64@us...|     F| pcullingford64|     oC4{Rl/tHGu|     161.52|\n",
            "|      206|        26|      6|2022-01-18|   1| 85.49|Conjunto de Pijama|      Vidovik Linham| vlinham5p@intel.com|     F|      vlinham5p|  gK0\\((H\\BGv~Ao|      85.49|\n",
            "|      123|        28|      7|2022-10-12|   2|112.02|     Camiseta Polo|         Drucy Baert| dbaert3e@discuz.net|     F|       dbaert3e|      hB7%NEc6u4|     224.04|\n",
            "|      269|        39|      8|2022-06-15|   2| 95.66|        Macaquinho|   Lind Bickerstasse|lbickerstasse7g@h...|     F|lbickerstasse7g|          S1*b!w|     191.32|\n",
            "|      179|        36|      9|2022-02-15|   3|100.59|     Chapéu Fedora|         Lynnet Adie|    ladie4y@java.com|     F|        ladie4y|      iZ4!k+lkXG|     301.77|\n",
            "|      148|        41|     10|2022-12-06|   1|  98.9|    Blusa de Renda|     Ignatius Baudic|ibaudic43@dailyma...|     M|      ibaudic43|    cB6.()0Cdb\\Z|       98.9|\n",
            "|       81|        34|     11|2022-04-30|   1| 102.7|     Camisa Xadrez|    Clementius Keele|  ckeele28@google.de|     M|       ckeele28| vF0*a}nC$<0(j=`|      102.7|\n",
            "|       98|        48|     12|2022-04-05|   3| 83.92|         Sapatênis|    Sunshine Sewards|  ssewards2p@cdc.gov|     M|     ssewards2p| tH7%NP*d\\fYYeaD|     251.76|\n",
            "|      180|        24|     13|2022-03-24|   1|123.33|        Sapatilhas|        Eva Coppock.|  ecoppock4z@fda.gov|     F|     ecoppock4z| aH9_CYOdlOIJcyY|     123.33|\n",
            "|       97|         1|     14|2022-11-20|   3|  86.5|       Camisa Polo|    Remington Blakey|rblakey2o@princet...|     M|      rblakey2o|  vD2RJ.#`NX(=Ri|      259.5|\n",
            "|      270|        12|     15|2022-03-23|   2|117.88| Casaco de Inverno|      Tammi Blancowe|tblancowe7h@dedec...|     F|    tblancowe7h|  sZ0{1Z9/|rv6Sa|     235.76|\n",
            "|      128|        25|     16|2022-11-28|   1| 82.64|Suéter de Cashmere|     Flint Dabrowski|   fdabrowski3j@t.co|     F|   fdabrowski3j|       jQ1=*`V)P|      82.64|\n",
            "|      165|        49|     17|2022-04-24|   2| 109.3|Calça Cintura Alta|     Humfrid Traylen|htraylen4k@nydail...|     M|     htraylen4k|dZ7+LHI5dz`W7\\oJ|      218.6|\n",
            "|       18|        28|     18|2022-10-21|   3|112.02|     Camiseta Polo|      Edgard Stuckow|estuckowh@spotify...|     F|      estuckowh|  sT6$4#U1H%tTnK|     336.06|\n",
            "|      205|         9|     19|2022-10-01|   1|116.02|     Jaqueta Jeans|       Ferrel Orriss|forriss5o@tinyurl...|     F|      forriss5o|        aO6)yK1+|     116.02|\n",
            "|      143|        47|     20|2022-04-10|   1|  95.6|  Vestido Camisola|     Anestassia Saby|asaby3y@timesonli...|     M|        asaby3y|yX5/=bI@Q'lsk{=/|       95.6|\n",
            "+---------+----------+-------+----------+----+------+------------------+--------------------+--------------------+------+---------------+----------------+-----------+\n",
            "only showing top 20 rows\n",
            "\n"
          ]
        }
      ]
    },
    {
      "cell_type": "code",
      "source": [
        "#Questão 1\n",
        "df_sales_total.select(col('product'), col('Total Value')).show(5)\n"
      ],
      "metadata": {
        "id": "H2RrmInNzaUg",
        "outputId": "5aa2569d-a5f3-452a-eb97-1ff0e2d9e43d",
        "colab": {
          "base_uri": "https://localhost:8080/"
        }
      },
      "id": "H2RrmInNzaUg",
      "execution_count": 127,
      "outputs": [
        {
          "output_type": "stream",
          "name": "stdout",
          "text": [
            "+------------------+-----------+\n",
            "|           product|Total Value|\n",
            "+------------------+-----------+\n",
            "|     Blusa Cropped|      214.5|\n",
            "|Camiseta Estampada|     218.38|\n",
            "|     Óculos de Sol|     244.54|\n",
            "|        Bolsa Tote|     105.96|\n",
            "|     Camisa Social|     161.52|\n",
            "+------------------+-----------+\n",
            "only showing top 5 rows\n",
            "\n"
          ]
        }
      ]
    },
    {
      "cell_type": "code",
      "source": [
        "#Questão 2\n",
        "df_total_expense_by_client = df_sales_total.groupBy('name', 'client_id').agg(sum('Total Value').alias('Gasto Total'))\n",
        "df_total_expense_by_client = df_total_expense_by_client.withColumn('Gasto Total', round(col('Gasto Total'), 2))\n",
        "df_total_expense_by_client.select(col('name'), col('Gasto Total')).show()\n",
        "\n",
        "\n"
      ],
      "metadata": {
        "id": "lu7Xsk085Bgx",
        "outputId": "d5bc33ee-e1e9-4ba7-910b-ef19749833a7",
        "colab": {
          "base_uri": "https://localhost:8080/"
        }
      },
      "id": "lu7Xsk085Bgx",
      "execution_count": 119,
      "outputs": [
        {
          "output_type": "stream",
          "name": "stdout",
          "text": [
            "+-------------------+-----------+\n",
            "|               name|Gasto Total|\n",
            "+-------------------+-----------+\n",
            "|      Cory Housiaux|     787.38|\n",
            "|  Vivianna Arnholtz|    1205.24|\n",
            "|    Collette Ladell|     811.12|\n",
            "|      Dulcy Birkett|    1518.37|\n",
            "|        Blayne Sirr|      95.66|\n",
            "|    Paulette Bracer|     818.59|\n",
            "|      Eben Fairhead|     212.41|\n",
            "|Margarethe Prigmore|    1713.44|\n",
            "|       Cary Syddall|    1107.99|\n",
            "|      Maurits Scade|    1041.72|\n",
            "|  Hilliard Wadforth|     669.54|\n",
            "|   Kristien Whitlaw|     1080.8|\n",
            "|        Lem Millott|     191.32|\n",
            "|       Allyson Calf|     489.83|\n",
            "|       Jewel Bootes|     278.89|\n",
            "|      Sammie Gidley|    1114.88|\n",
            "|     Ganny Richards|    1278.64|\n",
            "|        Curr Whisby|    1205.36|\n",
            "|        Lynne Volet|    1008.74|\n",
            "|  Dewitt Christofle|     330.18|\n",
            "+-------------------+-----------+\n",
            "only showing top 20 rows\n",
            "\n"
          ]
        }
      ]
    },
    {
      "cell_type": "code",
      "source": [
        "#Questão 3\n",
        "\n",
        "df_top_5_clients = df_sales_total.groupBy('name', 'email').agg(sum('Total Value').alias('Gasto Total')).orderBy(col('Gasto Total').desc()).limit(5)\n",
        "df_top_5_clients = df_top_5_clients.withColumn('Gasto Total', round(col('Gasto Total'), 2))\n",
        "df_top_5_clients.show()\n"
      ],
      "metadata": {
        "id": "HfOZ7Zjc9Nm5",
        "outputId": "98ef7396-91b4-462c-9618-27e59fc40c18",
        "colab": {
          "base_uri": "https://localhost:8080/"
        }
      },
      "id": "HfOZ7Zjc9Nm5",
      "execution_count": 77,
      "outputs": [
        {
          "output_type": "stream",
          "name": "stdout",
          "text": [
            "+-----------------+--------------------+-----------+\n",
            "|             name|               email|Gasto Total|\n",
            "+-----------------+--------------------+-----------+\n",
            "|Randa Friedenbach|rfriedenbach3m@pa...|    2240.51|\n",
            "|  Giuditta Blease|gblease6s@friendf...|    1902.85|\n",
            "|     Cher Higford| chigfordn@issuu.com|    1843.35|\n",
            "|    Keen Juggings|kjuggings5j@phoca.cz|    1795.86|\n",
            "|    Alfie Pattlel|apattlelu@discuz.net|     1755.6|\n",
            "+-----------------+--------------------+-----------+\n",
            "\n"
          ]
        }
      ]
    },
    {
      "cell_type": "code",
      "source": [
        "#Questão 4\n",
        "df_top_5_products = df_sales_total.filter(col('date') >= date_sub(to_date(lit('2022-12-30')), 180)).groupBy('product').agg(sum('qtde').alias('qtde Total')).orderBy(col('qtde Total').desc()).limit(5)\n",
        "df_top_5_products.show()\n",
        "\n"
      ],
      "metadata": {
        "id": "ccybhkZI91H2",
        "outputId": "34e65d73-531a-435d-e611-082d7b9790e2",
        "colab": {
          "base_uri": "https://localhost:8080/"
        }
      },
      "id": "ccybhkZI91H2",
      "execution_count": 95,
      "outputs": [
        {
          "output_type": "stream",
          "name": "stdout",
          "text": [
            "+--------------------+----------+\n",
            "|             product|qtde Total|\n",
            "+--------------------+----------+\n",
            "|          Macaquinho|        39|\n",
            "|Blusa de Manga Longa|        34|\n",
            "|      Bolsa de Couro|        27|\n",
            "|     Mochila de Lona|        27|\n",
            "|   Casaco de Inverno|        27|\n",
            "+--------------------+----------+\n",
            "\n"
          ]
        }
      ]
    },
    {
      "cell_type": "code",
      "source": [
        "#Questão 5\n",
        "df_mean_std = df_sales_total.groupBy('name').agg(mean('Total Value').alias('Media'), stddev('Total Value').alias('Desvio Padrão'), count('Total Value').alias('Contagem vendas'))\n",
        "df_mean_std= df_mean_std.fillna(0, subset=['Desvio Padrão'])\n",
        "df_mean_std.show()\n"
      ],
      "metadata": {
        "id": "yNSg5oqqC7XS",
        "outputId": "76c4db15-e32d-4904-e18b-efb24ccfce29",
        "colab": {
          "base_uri": "https://localhost:8080/"
        }
      },
      "id": "yNSg5oqqC7XS",
      "execution_count": 111,
      "outputs": [
        {
          "output_type": "stream",
          "name": "stdout",
          "text": [
            "+-------------------+------------------+------------------+---------------+\n",
            "|               name|             Media|     Desvio Padrão|Contagem vendas|\n",
            "+-------------------+------------------+------------------+---------------+\n",
            "|       Karel Laight|226.10800018310547| 104.4691214958583|              5|\n",
            "|     Melita Drewson|133.06499671936035|47.437659724430205|              4|\n",
            "|  Shandeigh Ferries|222.38000106811523|147.78532266278503|              2|\n",
            "|      Enid Couthard|233.27000427246094| 89.70357748250237|              2|\n",
            "|Tobiah Boughtflower|224.22000122070312|               0.0|              1|\n",
            "|       Cary Syddall|  276.997501373291| 67.73184585466649|              4|\n",
            "|      Ferrel Orriss| 157.0520004272461| 72.74503706913426|              5|\n",
            "|    Giuditta Blease|190.28500061035157| 97.16151070155102|             10|\n",
            "|     Christye Ryton| 281.1974906921387| 66.24854471195366|              4|\n",
            "|     Tedman Gerssam|208.78800506591796|117.04776272862307|              5|\n",
            "|  Skipton Coldicott| 82.63999938964844|               0.0|              1|\n",
            "|      Pepito Mocher|108.95999908447266|               0.0|              1|\n",
            "|          Kym Beade| 110.2699966430664|               0.0|              1|\n",
            "|       Liva Boswood|155.16000366210938| 89.40658313956199|              2|\n",
            "|        Ethyl Yoxen|214.52142987932478| 88.95755853657819|              7|\n",
            "|      Morgana Kenen|348.05999755859375|               0.0|              1|\n",
            "|  Loydie Dunkersley|161.55142974853516|120.25761982238993|              7|\n",
            "|    Samaria Bottjer|258.18499755859375|106.71933430411767|              6|\n",
            "|    Alvinia Drakers| 231.7800064086914|169.23894520927914|              2|\n",
            "|  Priscella Gaywood| 308.0999755859375|               0.0|              1|\n",
            "+-------------------+------------------+------------------+---------------+\n",
            "only showing top 20 rows\n",
            "\n"
          ]
        }
      ]
    },
    {
      "cell_type": "code",
      "source": [
        "#Questão 6\n",
        "df_metrics = df_total_expense_by_client.agg(mean('Gasto Total').alias('Media'), stddev('Gasto Total').alias('DP'))\n",
        "metrics = df_metrics.collect()[0]\n",
        "media = metrics.Media\n",
        "desvio_padrao = metrics.DP\n",
        "\n",
        "df_classification = df_total_expense_by_client.withColumn('Categoria', when(col('Gasto Total') > media, 'Platinum').when(col('Gasto Total') > media - desvio_padrao, 'Gold').otherwise('Silver'))\n",
        "df_classification.select(col('name'), col('Gasto Total'), col('Categoria')).show()\n"
      ],
      "metadata": {
        "id": "c8lQzNwbIop4",
        "outputId": "78fa6101-fa1a-4b4c-ca11-2bd8d6c320bf",
        "colab": {
          "base_uri": "https://localhost:8080/"
        }
      },
      "id": "c8lQzNwbIop4",
      "execution_count": 121,
      "outputs": [
        {
          "output_type": "stream",
          "name": "stdout",
          "text": [
            "+-------------------+-----------+---------+\n",
            "|               name|Gasto Total|Categoria|\n",
            "+-------------------+-----------+---------+\n",
            "|      Cory Housiaux|     787.38| Platinum|\n",
            "|  Vivianna Arnholtz|    1205.24| Platinum|\n",
            "|    Collette Ladell|     811.12| Platinum|\n",
            "|      Dulcy Birkett|    1518.37| Platinum|\n",
            "|        Blayne Sirr|      95.66|   Silver|\n",
            "|    Paulette Bracer|     818.59| Platinum|\n",
            "|      Eben Fairhead|     212.41|   Silver|\n",
            "|Margarethe Prigmore|    1713.44| Platinum|\n",
            "|       Cary Syddall|    1107.99| Platinum|\n",
            "|      Maurits Scade|    1041.72| Platinum|\n",
            "|  Hilliard Wadforth|     669.54|     Gold|\n",
            "|   Kristien Whitlaw|     1080.8| Platinum|\n",
            "|        Lem Millott|     191.32|   Silver|\n",
            "|       Allyson Calf|     489.83|     Gold|\n",
            "|       Jewel Bootes|     278.89|   Silver|\n",
            "|      Sammie Gidley|    1114.88| Platinum|\n",
            "|     Ganny Richards|    1278.64| Platinum|\n",
            "|        Curr Whisby|    1205.36| Platinum|\n",
            "|        Lynne Volet|    1008.74| Platinum|\n",
            "|  Dewitt Christofle|     330.18|     Gold|\n",
            "+-------------------+-----------+---------+\n",
            "only showing top 20 rows\n",
            "\n"
          ]
        }
      ]
    },
    {
      "cell_type": "code",
      "source": [
        "#Questão 7\n",
        "df_sales_by_category = df_sales_total.groupBy('Categoria', 'product').agg(sum('qtde').alias('Total vendido'))\n",
        "df_sales_by_category.show()\n",
        "\n",
        "window_category = Window.partitionBy('Categoria').orderBy(col('Total vendido').desc())\n",
        "df_top_3_products = df_sales_by_category.withColumn('Ranking', row_number().over(window_category)).filter(col('Ranking') <= 3)\n",
        "df_top_3_products.show()\n",
        "\n",
        "df_top_3_products.write.parquet('top_3_products.parquet')\n",
        "\n"
      ],
      "metadata": {
        "id": "OTE5hUIcND0J"
      },
      "id": "OTE5hUIcND0J",
      "execution_count": 132,
      "outputs": []
    },
    {
      "cell_type": "code",
      "source": [],
      "metadata": {
        "id": "HQadsvjHT7Qh"
      },
      "id": "HQadsvjHT7Qh",
      "execution_count": null,
      "outputs": []
    }
  ],
  "metadata": {
    "kernelspec": {
      "display_name": "Python 3 (ipykernel)",
      "language": "python",
      "name": "python3"
    },
    "language_info": {
      "codemirror_mode": {
        "name": "ipython",
        "version": 3
      },
      "file_extension": ".py",
      "mimetype": "text/x-python",
      "name": "python",
      "nbconvert_exporter": "python",
      "pygments_lexer": "ipython3",
      "version": "3.11.5"
    },
    "colab": {
      "provenance": []
    }
  },
  "nbformat": 4,
  "nbformat_minor": 5
}